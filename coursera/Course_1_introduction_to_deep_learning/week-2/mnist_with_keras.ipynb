{
  "nbformat": 4,
  "nbformat_minor": 0,
  "metadata": {
    "colab": {
      "name": "Copy of mnist_with_keras.ipynb",
      "version": "0.3.2",
      "provenance": []
    },
    "kernelspec": {
      "display_name": "Python 3",
      "language": "python",
      "name": "python3"
    }
  },
  "cells": [
    {
      "metadata": {
        "id": "gfTLvfih8877",
        "colab_type": "text",
        "slideshow": {
          "slide_type": "slide"
        }
      },
      "cell_type": "markdown",
      "source": [
        "# MNIST digits classification with Keras\n",
        "\n",
        "We don't expect you to code anything here because you've already solved it with TensorFlow.\n",
        "\n",
        "But you can appreciate how simpler it is with Keras.\n",
        "\n",
        "We'll be happy if you play around with the architecture though, there're some tips at the end."
      ]
    },
    {
      "metadata": {
        "id": "7CZMk45O8878",
        "colab_type": "text"
      },
      "cell_type": "markdown",
      "source": [
        "<img src=\"https://github.com/hse-aml/intro-to-dl/blob/master/week2/v2/images/mnist_sample.png?raw=1\" style=\"width:30%\">"
      ]
    },
    {
      "metadata": {
        "id": "-zYRdLug9VPq",
        "colab_type": "code",
        "colab": {
          "base_uri": "https://localhost:8080/",
          "height": 153
        },
        "outputId": "eb70d553-e6f1-4092-c3c5-be6f034a778d"
      },
      "cell_type": "code",
      "source": [
        "! wget https://raw.githubusercontent.com/hse-aml/intro-to-dl/master/setup_google_colab.py -O setup_google_colab.py\n",
        "import setup_google_colab\n",
        "setup_google_colab.setup_week2_v2()"
      ],
      "execution_count": 1,
      "outputs": [
        {
          "output_type": "stream",
          "text": [
            "\n",
            "Redirecting output to ‘wget-log’.\n",
            "**************************************************\n",
            "inception_v3_weights_tf_dim_ordering_tf_kernels_notop.h5\n",
            "**************************************************\n",
            "cifar-10-batches-py.tar.gz\n",
            "**************************************************\n",
            "mnist.npz\n"
          ],
          "name": "stdout"
        }
      ]
    },
    {
      "metadata": {
        "id": "7gP59wUB8879",
        "colab_type": "code",
        "colab": {
          "base_uri": "https://localhost:8080/",
          "height": 68
        },
        "outputId": "4d3f8db0-c63c-4406-af38-68ec9801e8c6"
      },
      "cell_type": "code",
      "source": [
        "import numpy as np\n",
        "from sklearn.metrics import accuracy_score\n",
        "from matplotlib import pyplot as plt\n",
        "%matplotlib inline\n",
        "import tensorflow as tf\n",
        "print(\"We're using TF\", tf.__version__)\n",
        "import keras\n",
        "print(\"We are using Keras\", keras.__version__)\n",
        "\n",
        "import sys\n",
        "sys.path.append(\"../..\")\n",
        "import keras_utils\n",
        "from keras_utils import reset_tf_session"
      ],
      "execution_count": 2,
      "outputs": [
        {
          "output_type": "stream",
          "text": [
            "We're using TF 1.11.0\n"
          ],
          "name": "stdout"
        },
        {
          "output_type": "stream",
          "text": [
            "Using TensorFlow backend.\n"
          ],
          "name": "stderr"
        },
        {
          "output_type": "stream",
          "text": [
            "We are using Keras 2.0.6\n"
          ],
          "name": "stdout"
        }
      ]
    },
    {
      "metadata": {
        "id": "irwjQkc8888A",
        "colab_type": "text"
      },
      "cell_type": "markdown",
      "source": [
        "# Look at the data\n",
        "\n",
        "In this task we have 50000 28x28 images of digits from 0 to 9.\n",
        "We will train a classifier on this data."
      ]
    },
    {
      "metadata": {
        "id": "CAhXlF0P888B",
        "colab_type": "code",
        "colab": {
          "base_uri": "https://localhost:8080/",
          "height": 51
        },
        "outputId": "7cb1e141-6f52-4de1-e895-e2a51a596df5"
      },
      "cell_type": "code",
      "source": [
        "import preprocessed_mnist\n",
        "X_train, y_train, X_val, y_val, X_test, y_test = preprocessed_mnist.load_dataset()"
      ],
      "execution_count": 3,
      "outputs": [
        {
          "output_type": "stream",
          "text": [
            "Downloading data from https://s3.amazonaws.com/img-datasets/mnist.npz\n",
            "10657792/11490434 [==========================>...] - ETA: 0s"
          ],
          "name": "stdout"
        }
      ]
    },
    {
      "metadata": {
        "id": "qci1q61x888E",
        "colab_type": "code",
        "colab": {
          "base_uri": "https://localhost:8080/",
          "height": 683
        },
        "outputId": "b789ea1a-c896-405b-b904-89e7a1ce2eab"
      },
      "cell_type": "code",
      "source": [
        "# X contains rgb values divided by 255\n",
        "print(\"X_train [shape %s] sample patch:\\n\" % (str(X_train.shape)), X_train[1, 15:20, 5:10])\n",
        "print(\"A closeup of a sample patch:\")\n",
        "plt.imshow(X_train[1, 15:20, 5:10], cmap=\"Greys\")\n",
        "plt.show()\n",
        "print(\"And the whole sample:\")\n",
        "plt.imshow(X_train[1], cmap=\"Greys\")\n",
        "plt.show()\n",
        "print(\"y_train [shape %s] 10 samples:\\n\" % (str(y_train.shape)), y_train[:10])"
      ],
      "execution_count": 4,
      "outputs": [
        {
          "output_type": "stream",
          "text": [
            "X_train [shape (50000, 28, 28)] sample patch:\n",
            " [[0.         0.29803922 0.96470588 0.98823529 0.43921569]\n",
            " [0.         0.33333333 0.98823529 0.90196078 0.09803922]\n",
            " [0.         0.33333333 0.98823529 0.8745098  0.        ]\n",
            " [0.         0.33333333 0.98823529 0.56862745 0.        ]\n",
            " [0.         0.3372549  0.99215686 0.88235294 0.        ]]\n",
            "A closeup of a sample patch:\n"
          ],
          "name": "stdout"
        },
        {
          "output_type": "display_data",
          "data": {
            "image/png": "[encoded data removed]",
            "text/plain": [
              "<matplotlib.figure.Figure at 0x7f1b4704d240>"
            ]
          },
          "metadata": {
            "tags": []
          }
        },
        {
          "output_type": "stream",
          "text": [
            "And the whole sample:\n"
          ],
          "name": "stdout"
        },
        {
          "output_type": "display_data",
          "data": {
            "image/png": "[encoded data removed]",
            "text/plain": [
              "<matplotlib.figure.Figure at 0x7f1b47006128>"
            ]
          },
          "metadata": {
            "tags": []
          }
        },
        {
          "output_type": "stream",
          "text": [
            "y_train [shape (50000,)] 10 samples:\n",
            " [5 0 4 1 9 2 1 3 1 4]\n"
          ],
          "name": "stdout"
        }
      ]
    },
    {
      "metadata": {
        "id": "bZ9vfuCS888H",
        "colab_type": "code",
        "colab": {
          "base_uri": "https://localhost:8080/",
          "height": 51
        },
        "outputId": "6d58f379-7105-4445-c150-3b42a6e061a9"
      },
      "cell_type": "code",
      "source": [
        "# flatten images\n",
        "X_train_flat = X_train.reshape((X_train.shape[0], -1))\n",
        "print(X_train_flat.shape)\n",
        "\n",
        "X_val_flat = X_val.reshape((X_val.shape[0], -1))\n",
        "print(X_val_flat.shape)"
      ],
      "execution_count": 5,
      "outputs": [
        {
          "output_type": "stream",
          "text": [
            "(50000, 784)\n",
            "(10000, 784)\n"
          ],
          "name": "stdout"
        }
      ]
    },
    {
      "metadata": {
        "id": "eeOuhuw7888K",
        "colab_type": "code",
        "colab": {
          "base_uri": "https://localhost:8080/",
          "height": 85
        },
        "outputId": "2406de60-a51b-44c7-fef9-a78593e80027"
      },
      "cell_type": "code",
      "source": [
        "# one-hot encode the target\n",
        "y_train_oh = keras.utils.to_categorical(y_train, 10)\n",
        "y_val_oh = keras.utils.to_categorical(y_val, 10)\n",
        "\n",
        "print(y_train_oh.shape)\n",
        "print(y_train_oh[:3], y_train[:3])"
      ],
      "execution_count": 6,
      "outputs": [
        {
          "output_type": "stream",
          "text": [
            "(50000, 10)\n",
            "[[0. 0. 0. 0. 0. 1. 0. 0. 0. 0.]\n",
            " [1. 0. 0. 0. 0. 0. 0. 0. 0. 0.]\n",
            " [0. 0. 0. 0. 1. 0. 0. 0. 0. 0.]] [5 0 4]\n"
          ],
          "name": "stdout"
        }
      ]
    },
    {
      "metadata": {
        "id": "z61HK960888O",
        "colab_type": "code",
        "colab": {}
      },
      "cell_type": "code",
      "source": [
        "# building a model with keras\n",
        "from keras.layers import Dense, Activation\n",
        "from keras.models import Sequential\n",
        "\n",
        "# we still need to clear a graph though\n",
        "s = reset_tf_session()\n",
        "\n",
        "model = Sequential()  # it is a feed-forward network without loops like in RNN\n",
        "model.add(Dense(256, input_shape=(784,)))  # the first layer must specify the input shape (replacing placeholders)\n",
        "model.add(Activation('sigmoid'))\n",
        "model.add(Dense(256))\n",
        "model.add(Activation('sigmoid'))\n",
        "model.add(Dense(10))\n",
        "model.add(Activation('softmax'))"
      ],
      "execution_count": 0,
      "outputs": []
    },
    {
      "metadata": {
        "id": "V3Tz_Rug888R",
        "colab_type": "code",
        "colab": {
          "base_uri": "https://localhost:8080/",
          "height": 340
        },
        "outputId": "d17aa712-2222-46dd-caae-a3ab62c3be5e"
      },
      "cell_type": "code",
      "source": [
        "# you can look at all layers and parameter count\n",
        "model.summary()"
      ],
      "execution_count": 8,
      "outputs": [
        {
          "output_type": "stream",
          "text": [
            "_________________________________________________________________\n",
            "Layer (type)                 Output Shape              Param #   \n",
            "=================================================================\n",
            "dense_1 (Dense)              (None, 256)               200960    \n",
            "_________________________________________________________________\n",
            "activation_1 (Activation)    (None, 256)               0         \n",
            "_________________________________________________________________\n",
            "dense_2 (Dense)              (None, 256)               65792     \n",
            "_________________________________________________________________\n",
            "activation_2 (Activation)    (None, 256)               0         \n",
            "_________________________________________________________________\n",
            "dense_3 (Dense)              (None, 10)                2570      \n",
            "_________________________________________________________________\n",
            "activation_3 (Activation)    (None, 10)                0         \n",
            "=================================================================\n",
            "Total params: 269,322\n",
            "Trainable params: 269,322\n",
            "Non-trainable params: 0\n",
            "_________________________________________________________________\n"
          ],
          "name": "stdout"
        }
      ]
    },
    {
      "metadata": {
        "id": "dAUnAbZU888U",
        "colab_type": "code",
        "colab": {
          "base_uri": "https://localhost:8080/",
          "height": 139
        },
        "outputId": "b3cf74ab-dc81-44d6-d696-d23f812af6fa"
      },
      "cell_type": "code",
      "source": [
        "# now we \"compile\" the model specifying the loss and optimizer\n",
        "model.compile(\n",
        "    loss='categorical_crossentropy', # this is our cross-entropy\n",
        "    optimizer='adam',\n",
        "    metrics=['accuracy']  # report accuracy during training\n",
        ")"
      ],
      "execution_count": 9,
      "outputs": [
        {
          "output_type": "stream",
          "text": [
            "WARNING:tensorflow:From /usr/local/lib/python3.6/dist-packages/keras/backend/tensorflow_backend.py:2745: calling reduce_sum (from tensorflow.python.ops.math_ops) with keep_dims is deprecated and will be removed in a future version.\n",
            "Instructions for updating:\n",
            "keep_dims is deprecated, use keepdims instead\n",
            "WARNING:tensorflow:From /usr/local/lib/python3.6/dist-packages/keras/backend/tensorflow_backend.py:1299: calling reduce_mean (from tensorflow.python.ops.math_ops) with keep_dims is deprecated and will be removed in a future version.\n",
            "Instructions for updating:\n",
            "keep_dims is deprecated, use keepdims instead\n"
          ],
          "name": "stdout"
        }
      ]
    },
    {
      "metadata": {
        "id": "Jf16gHW2888X",
        "colab_type": "code",
        "colab": {
          "base_uri": "https://localhost:8080/",
          "height": 2754
        },
        "outputId": "44ae36e1-f74a-48e1-9624-171098e3e7be"
      },
      "cell_type": "code",
      "source": [
        "# and now we can fit the model with model.fit()\n",
        "# and we don't have to write loops and batching manually as in TensorFlow\n",
        "model.fit(\n",
        "    X_train_flat, \n",
        "    y_train_oh,\n",
        "    batch_size=512, \n",
        "    epochs=40,\n",
        "    validation_data=(X_val_flat, y_val_oh),\n",
        "    callbacks=[keras_utils.TqdmProgressCallback()],\n",
        "    verbose=0\n",
        ")"
      ],
      "execution_count": 10,
      "outputs": [
        {
          "output_type": "stream",
          "text": [
            "\n",
            "Epoch 1/40\n",
            "**************************************************\n",
            "loss: 1.1887; acc: 0.7093; val_loss: 0.4460; val_acc: 0.8932\n",
            "\n",
            "Epoch 2/40\n",
            "**************************************************\n",
            "loss: 0.3782; acc: 0.8968; val_loss: 0.2898; val_acc: 0.9198\n",
            "\n",
            "Epoch 3/40\n",
            "**************************************************\n",
            "loss: 0.2872; acc: 0.9172; val_loss: 0.2414; val_acc: 0.9311\n",
            "\n",
            "Epoch 4/40\n",
            "**************************************************\n",
            "loss: 0.2446; acc: 0.9286; val_loss: 0.2155; val_acc: 0.9376\n",
            "\n",
            "Epoch 5/40\n",
            "**************************************************\n",
            "loss: 0.2149; acc: 0.9369; val_loss: 0.1930; val_acc: 0.9447\n",
            "\n",
            "Epoch 6/40\n",
            "**************************************************\n",
            "loss: 0.1903; acc: 0.9441; val_loss: 0.1729; val_acc: 0.9537\n",
            "\n",
            "Epoch 7/40\n",
            "**************************************************\n",
            "loss: 0.1704; acc: 0.9493; val_loss: 0.1591; val_acc: 0.9563\n",
            "\n",
            "Epoch 8/40\n",
            "**************************************************\n",
            "loss: 0.1539; acc: 0.9552; val_loss: 0.1476; val_acc: 0.9586\n",
            "\n",
            "Epoch 9/40\n",
            "**************************************************\n",
            "loss: 0.1383; acc: 0.9597; val_loss: 0.1362; val_acc: 0.9615\n",
            "\n",
            "Epoch 10/40\n",
            "**************************************************\n",
            "loss: 0.1263; acc: 0.9632; val_loss: 0.1307; val_acc: 0.9622\n",
            "\n",
            "Epoch 11/40\n",
            "**************************************************\n",
            "loss: 0.1129; acc: 0.9672; val_loss: 0.1220; val_acc: 0.9656\n",
            "\n",
            "Epoch 12/40\n",
            "**************************************************\n",
            "loss: 0.1035; acc: 0.9702; val_loss: 0.1174; val_acc: 0.9654\n",
            "\n",
            "Epoch 13/40\n",
            "**************************************************\n",
            "loss: 0.0941; acc: 0.9728; val_loss: 0.1093; val_acc: 0.9683\n",
            "\n",
            "Epoch 14/40\n",
            "**************************************************\n",
            "loss: 0.0853; acc: 0.9762; val_loss: 0.1045; val_acc: 0.9707\n",
            "\n",
            "Epoch 15/40\n",
            "**************************************************\n",
            "loss: 0.0780; acc: 0.9774; val_loss: 0.0986; val_acc: 0.9706\n",
            "\n",
            "Epoch 16/40\n",
            "**************************************************\n",
            "loss: 0.0702; acc: 0.9800; val_loss: 0.0958; val_acc: 0.9713\n",
            "\n",
            "Epoch 17/40\n",
            "**************************************************\n",
            "loss: 0.0649; acc: 0.9821; val_loss: 0.0933; val_acc: 0.9729\n",
            "\n",
            "Epoch 18/40\n",
            "**************************************************\n",
            "loss: 0.0588; acc: 0.9833; val_loss: 0.0919; val_acc: 0.9720\n",
            "\n",
            "Epoch 19/40\n",
            "**************************************************\n",
            "loss: 0.0527; acc: 0.9853; val_loss: 0.0851; val_acc: 0.9746\n",
            "\n",
            "Epoch 20/40\n",
            "**************************************************\n",
            "loss: 0.0476; acc: 0.9870; val_loss: 0.0869; val_acc: 0.9752\n",
            "\n",
            "Epoch 21/40\n",
            "**************************************************\n",
            "loss: 0.0436; acc: 0.9883; val_loss: 0.0820; val_acc: 0.9757\n",
            "\n",
            "Epoch 22/40\n",
            "**************************************************\n",
            "loss: 0.0392; acc: 0.9899; val_loss: 0.0801; val_acc: 0.9763\n",
            "\n",
            "Epoch 23/40\n",
            "**************************************************\n",
            "loss: 0.0355; acc: 0.9910; val_loss: 0.0795; val_acc: 0.9767\n",
            "\n",
            "Epoch 24/40\n",
            "**************************************************\n",
            "loss: 0.0316; acc: 0.9927; val_loss: 0.0822; val_acc: 0.9757\n",
            "\n",
            "Epoch 25/40\n",
            "**************************************************\n",
            "loss: 0.0291; acc: 0.9933; val_loss: 0.0783; val_acc: 0.9771\n",
            "\n",
            "Epoch 26/40\n",
            "**************************************************\n",
            "loss: 0.0256; acc: 0.9942; val_loss: 0.0778; val_acc: 0.9774\n",
            "\n",
            "Epoch 27/40\n",
            "**************************************************\n",
            "loss: 0.0237; acc: 0.9948; val_loss: 0.0749; val_acc: 0.9779\n",
            "\n",
            "Epoch 28/40\n",
            "**************************************************\n",
            "loss: 0.0210; acc: 0.9956; val_loss: 0.0755; val_acc: 0.9787\n",
            "\n",
            "Epoch 29/40\n",
            "**************************************************\n",
            "loss: 0.0191; acc: 0.9961; val_loss: 0.0770; val_acc: 0.9773\n",
            "\n",
            "Epoch 30/40\n",
            "**************************************************\n",
            "loss: 0.0168; acc: 0.9969; val_loss: 0.0746; val_acc: 0.9772\n",
            "\n",
            "Epoch 31/40\n",
            "**************************************************\n",
            "loss: 0.0155; acc: 0.9974; val_loss: 0.0781; val_acc: 0.9781\n",
            "\n",
            "Epoch 32/40\n",
            "**************************************************\n",
            "loss: 0.0141; acc: 0.9979; val_loss: 0.0758; val_acc: 0.9789\n",
            "\n",
            "Epoch 33/40\n",
            "**************************************************\n",
            "loss: 0.0125; acc: 0.9981; val_loss: 0.0777; val_acc: 0.9783\n",
            "\n",
            "Epoch 34/40\n",
            "**************************************************\n",
            "loss: 0.0111; acc: 0.9986; val_loss: 0.0762; val_acc: 0.9790\n",
            "\n",
            "Epoch 35/40\n",
            "**************************************************\n",
            "loss: 0.0100; acc: 0.9988; val_loss: 0.0761; val_acc: 0.9792\n",
            "\n",
            "Epoch 36/40\n",
            "**************************************************\n",
            "loss: 0.0087; acc: 0.9990; val_loss: 0.0752; val_acc: 0.9788\n",
            "\n",
            "Epoch 37/40\n",
            "**************************************************\n",
            "loss: 0.0078; acc: 0.9993; val_loss: 0.0784; val_acc: 0.9786\n",
            "\n",
            "Epoch 38/40\n",
            "**************************************************\n",
            "loss: 0.0071; acc: 0.9994; val_loss: 0.0769; val_acc: 0.9795\n",
            "\n",
            "Epoch 39/40\n",
            "**************************************************\n",
            "loss: 0.0063; acc: 0.9995; val_loss: 0.0752; val_acc: 0.9797\n",
            "\n",
            "Epoch 40/40\n",
            "**************************************************\n",
            "loss: 0.0057; acc: 0.9996; val_loss: 0.0765; val_acc: 0.9797\n"
          ],
          "name": "stdout"
        },
        {
          "output_type": "execute_result",
          "data": {
            "text/plain": [
              "<keras.callbacks.History at 0x7f1b424e4d30>"
            ]
          },
          "metadata": {
            "tags": []
          },
          "execution_count": 10
        }
      ]
    },
    {
      "metadata": {
        "id": "Qlm6ECuQ888d",
        "colab_type": "text"
      },
      "cell_type": "markdown",
      "source": [
        "# Here're the notes for those who want to play around here\n",
        "\n",
        "Here are some tips on what you could do:\n",
        "\n",
        " * __Network size__\n",
        "   * More neurons, \n",
        "   * More layers, ([docs](https://keras.io/))\n",
        "\n",
        "   * Other nonlinearities in the hidden layers\n",
        "     * tanh, relu, leaky relu, etc\n",
        "   * Larger networks may take more epochs to train, so don't discard your net just because it could didn't beat the baseline in 5 epochs.\n",
        "\n",
        "\n",
        " * __Early Stopping__\n",
        "   * Training for 100 epochs regardless of anything is probably a bad idea.\n",
        "   * Some networks converge over 5 epochs, others - over 500.\n",
        "   * Way to go: stop when validation score is 10 iterations past maximum\n",
        "     \n",
        "\n",
        " * __Faster optimization__\n",
        "   * rmsprop, nesterov_momentum, adam, adagrad and so on.\n",
        "     * Converge faster and sometimes reach better optima\n",
        "     * It might make sense to tweak learning rate/momentum, other learning parameters, batch size and number of epochs\n",
        "\n",
        "\n",
        " * __Regularize__ to prevent overfitting\n",
        "   * Add some L2 weight norm to the loss function, theano will do the rest\n",
        "     * Can be done manually or via - https://keras.io/regularizers/\n",
        "   \n",
        "   \n",
        " * __Data augmemntation__ - getting 5x as large dataset for free is a great deal\n",
        "   * https://keras.io/preprocessing/image/\n",
        "   * Zoom-in+slice = move\n",
        "   * Rotate+zoom(to remove black stripes)\n",
        "   * any other perturbations\n",
        "   * Simple way to do that (if you have PIL/Image): \n",
        "     * ```from scipy.misc import imrotate,imresize```\n",
        "     * and a few slicing\n",
        "   * Stay realistic. There's usually no point in flipping dogs upside down as that is not the way you usually see them."
      ]
    },
    {
      "metadata": {
        "id": "GSSNX1Nl888e",
        "colab_type": "code",
        "colab": {}
      },
      "cell_type": "code",
      "source": [
        ""
      ],
      "execution_count": 0,
      "outputs": []
    }
  ]
}