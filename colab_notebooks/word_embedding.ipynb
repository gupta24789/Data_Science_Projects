{
  "nbformat": 4,
  "nbformat_minor": 0,
  "metadata": {
    "colab": {
      "name": "word_embedding.ipynb",
      "provenance": [],
      "collapsed_sections": [],
      "include_colab_link": true
    },
    "kernelspec": {
      "name": "python3",
      "display_name": "Python 3"
    },
    "accelerator": "GPU"
  },
  "cells": [
    {
      "cell_type": "markdown",
      "metadata": {
        "id": "view-in-github",
        "colab_type": "text"
      },
      "source": [
        "<a href=\"https://colab.research.google.com/github/gupta24789/Data_Science_Projects/blob/master/colab_notebooks/word_embedding.ipynb\" target=\"_parent\"><img src=\"https://colab.research.google.com/assets/colab-badge.svg\" alt=\"Open In Colab\"/></a>"
      ]
    },
    {
      "cell_type": "code",
      "metadata": {
        "id": "rZsXRl0wC2I4",
        "colab_type": "code",
        "colab": {}
      },
      "source": [
        "# pip install tensorflow-gpu==2.0.0"
      ],
      "execution_count": 0,
      "outputs": []
    },
    {
      "cell_type": "code",
      "metadata": {
        "id": "X9V0U0brB3tB",
        "colab_type": "code",
        "colab": {
          "base_uri": "https://localhost:8080/",
          "height": 35
        },
        "outputId": "a7f8a336-4d07-45d4-dff6-9c92e941939d"
      },
      "source": [
        "import tensorflow as tf\n",
        "import tensorflow_datasets as tfds\n",
        "from tensorflow.keras.preprocessing.text import Tokenizer\n",
        "from tensorflow.keras.preprocessing.sequence import pad_sequences\n",
        "\n",
        "print(\"Tensorflow Version :\", tf.__version__)"
      ],
      "execution_count": 2,
      "outputs": [
        {
          "output_type": "stream",
          "text": [
            "Tensorflow Version : 2.0.0\n"
          ],
          "name": "stdout"
        }
      ]
    },
    {
      "cell_type": "markdown",
      "metadata": {
        "id": "2zBhPts0EV6V",
        "colab_type": "text"
      },
      "source": [
        "## Embedding layer\n",
        "\n",
        "The Embedding layer can be understood as a lookup table that maps from integer indices (which stand for specific words) to dense vectors (their embeddings).\n",
        "\n",
        "If you pass an integer to an embedding layer, the result replaces each integer with the vector from the embedding table:\n",
        "\n",
        "    result = embedding_layer(tf.constant([1,2,3]))\n",
        "    result.numpy()\n",
        "\n",
        "results will be the corresponding vector of 1,2 and 3 in embedding matrix\n",
        "\n",
        "\n",
        "\n",
        "\n",
        "For text or sequence problems, the Embedding layer takes a 2D tensor of integers, of shape (samples, sequence_length)\n",
        "The returned tensor has one more axis than the input, the embedding vectors are aligned along the new last axis. Pass it a (2, 3) input batch and the output is (2, 3, N)\n",
        "\n",
        "  When given a batch of sequences as input, an embedding layer returns a 3D floating point tensor, of shape (samples, sequence_length, embedding_dimensionality)."
      ]
    },
    {
      "cell_type": "code",
      "metadata": {
        "id": "DZKfOIfHMOmE",
        "colab_type": "code",
        "colab": {
          "base_uri": "https://localhost:8080/",
          "height": 35
        },
        "outputId": "0dec0032-0319-44fd-9917-53359ec4240e"
      },
      "source": [
        "## List all the datasets in tensorflow\n",
        "tfds.list_builders()[:3]"
      ],
      "execution_count": 3,
      "outputs": [
        {
          "output_type": "execute_result",
          "data": {
            "text/plain": [
              "['abstract_reasoning', 'aflw2k3d', 'amazon_us_reviews']"
            ]
          },
          "metadata": {
            "tags": []
          },
          "execution_count": 3
        }
      ]
    },
    {
      "cell_type": "code",
      "metadata": {
        "id": "ttTwFMA9MCRp",
        "colab_type": "code",
        "colab": {
          "base_uri": "https://localhost:8080/",
          "height": 55
        },
        "outputId": "6f16df93-fefe-42a9-c238-c784926cb158"
      },
      "source": [
        "## Learning embeddings from scratch\n",
        "\n",
        "imdb , info = tfds.load(\"imdb_reviews/subwords8k\", with_info = True, as_supervised=True)"
      ],
      "execution_count": 13,
      "outputs": [
        {
          "output_type": "stream",
          "text": [
            "WARNING:absl:Warning: Setting shuffle_files=True because split=TRAIN and shuffle_files=None. This behavior will be deprecated on 2019-08-06, at which point shuffle_files=False will be the default for all splits.\n"
          ],
          "name": "stderr"
        }
      ]
    },
    {
      "cell_type": "code",
      "metadata": {
        "id": "oUzMH1JwMihi",
        "colab_type": "code",
        "colab": {}
      },
      "source": [
        "train_data, test_data = imdb[\"train\"], imdb[\"test\"]"
      ],
      "execution_count": 0,
      "outputs": []
    },
    {
      "cell_type": "code",
      "metadata": {
        "id": "TURM63LUNa6f",
        "colab_type": "code",
        "colab": {
          "base_uri": "https://localhost:8080/",
          "height": 52
        },
        "outputId": "6d7c82a6-e992-433a-d472-5d8da5c2c34d"
      },
      "source": [
        "type(train_data), type(test_data)"
      ],
      "execution_count": 15,
      "outputs": [
        {
          "output_type": "execute_result",
          "data": {
            "text/plain": [
              "(tensorflow.python.data.ops.dataset_ops._OptionsDataset,\n",
              " tensorflow.python.data.ops.dataset_ops._OptionsDataset)"
            ]
          },
          "metadata": {
            "tags": []
          },
          "execution_count": 15
        }
      ]
    },
    {
      "cell_type": "code",
      "metadata": {
        "id": "KEFRWa4eNcyY",
        "colab_type": "code",
        "colab": {}
      },
      "source": [
        "## get the encoder \n",
        "encoder = info.features['text'].encoder"
      ],
      "execution_count": 0,
      "outputs": []
    },
    {
      "cell_type": "code",
      "metadata": {
        "id": "3GsyW58FNp3Y",
        "colab_type": "code",
        "colab": {
          "base_uri": "https://localhost:8080/",
          "height": 35
        },
        "outputId": "c21dc1e4-ef61-4696-e9e8-f87ff940ed37"
      },
      "source": [
        "## \"_\" represents the space\n",
        "encoder.subwords[:5]"
      ],
      "execution_count": 17,
      "outputs": [
        {
          "output_type": "execute_result",
          "data": {
            "text/plain": [
              "['the_', ', ', '. ', 'a_', 'and_']"
            ]
          },
          "metadata": {
            "tags": []
          },
          "execution_count": 17
        }
      ]
    },
    {
      "cell_type": "code",
      "metadata": {
        "id": "haWTRhjFN_0v",
        "colab_type": "code",
        "colab": {}
      },
      "source": [
        "BUFFER_SIZE = 1000\n",
        "BATCH_SIZE = 10\n",
        "PADDED_SHAPE = ([None],())"
      ],
      "execution_count": 0,
      "outputs": []
    },
    {
      "cell_type": "code",
      "metadata": {
        "id": "IYOl2RxZNtbm",
        "colab_type": "code",
        "colab": {}
      },
      "source": [
        "## Following things should be done before modeling\n",
        "## 1. Shuffle\n",
        "## 2. Batch\n",
        "## 3. Length should be same for every input (Padding)"
      ],
      "execution_count": 0,
      "outputs": []
    },
    {
      "cell_type": "code",
      "metadata": {
        "id": "W7PMOl8yOkIo",
        "colab_type": "code",
        "colab": {}
      },
      "source": [
        "## Method - 1\n",
        "train_batches = train_data.shuffle(BUFFER_SIZE).padded_batch(BATCH_SIZE, padded_shapes = PADDED_SHAPE)\n",
        "test_batches = test_data.shuffle(BUFFER_SIZE).padded_batch(BATCH_SIZE,padded_shapes = PADDED_SHAPE)"
      ],
      "execution_count": 0,
      "outputs": []
    },
    {
      "cell_type": "code",
      "metadata": {
        "id": "NYl2vEBbP1w8",
        "colab_type": "code",
        "colab": {
          "base_uri": "https://localhost:8080/",
          "height": 173
        },
        "outputId": "dd3d8a11-d6a9-4bb5-b5b1-241a386f7b91"
      },
      "source": [
        "next(iter(train_batches))"
      ],
      "execution_count": 23,
      "outputs": [
        {
          "output_type": "execute_result",
          "data": {
            "text/plain": [
              "(<tf.Tensor: id=399, shape=(10, 988), dtype=int64, numpy=\n",
              " array([[  12,   56,  393, ...,    0,    0,    0],\n",
              "        [3075, 8044,   38, ...,    0,    0,    0],\n",
              "        [  62,    9,    1, ...,    0,    0,    0],\n",
              "        ...,\n",
              "        [  62,    9,    1, ...,    0,    0,    0],\n",
              "        [3943,    4,    9, ...,    0,    0,    0],\n",
              "        [  12,  129,  909, ...,    0,    0,    0]])>,\n",
              " <tf.Tensor: id=400, shape=(10,), dtype=int64, numpy=array([1, 0, 0, 1, 0, 1, 0, 0, 1, 1])>)"
            ]
          },
          "metadata": {
            "tags": []
          },
          "execution_count": 23
        }
      ]
    },
    {
      "cell_type": "code",
      "metadata": {
        "id": "MIv2qny5Q5KC",
        "colab_type": "code",
        "colab": {
          "base_uri": "https://localhost:8080/",
          "height": 364
        },
        "outputId": "eba99c98-e899-4eeb-d7c6-2297c1ff0f97"
      },
      "source": [
        "## Create Simple Model\n",
        "embedding_dim = 16\n",
        "\n",
        "model = tf.keras.models.Sequential([\n",
        "                tf.keras.layers.Embedding(encoder.vocab_size, embedding_dim),\n",
        "                tf.keras.layers.GlobalAveragePooling1D(),\n",
        "                tf.keras.layers.Dense(1,activation = 'sigmoid')                   \n",
        "])\n",
        "\n",
        "model.compile(loss = 'binary_crossentropy', optimizer = 'adam', metrics = ['accuracy'])\n",
        "history = model.fit(train_batches, validation_data = test_batches, epochs = 10)"
      ],
      "execution_count": 25,
      "outputs": [
        {
          "output_type": "stream",
          "text": [
            "Epoch 1/10\n",
            "2500/2500 [==============================] - 44s 18ms/step - loss: 0.6376 - accuracy: 0.6904 - val_loss: 0.0000e+00 - val_accuracy: 0.0000e+00\n",
            "Epoch 2/10\n",
            "2500/2500 [==============================] - 34s 14ms/step - loss: 0.4661 - accuracy: 0.8383 - val_loss: 0.4241 - val_accuracy: 0.8408\n",
            "Epoch 3/10\n",
            "2500/2500 [==============================] - 34s 14ms/step - loss: 0.3626 - accuracy: 0.8780 - val_loss: 0.3674 - val_accuracy: 0.8653\n",
            "Epoch 4/10\n",
            "2500/2500 [==============================] - 34s 14ms/step - loss: 0.3092 - accuracy: 0.8966 - val_loss: 0.3366 - val_accuracy: 0.8750\n",
            "Epoch 5/10\n",
            "2500/2500 [==============================] - 35s 14ms/step - loss: 0.2762 - accuracy: 0.9076 - val_loss: 0.3227 - val_accuracy: 0.8772\n",
            "Epoch 6/10\n",
            "2500/2500 [==============================] - 35s 14ms/step - loss: 0.2497 - accuracy: 0.9164 - val_loss: 0.3156 - val_accuracy: 0.8809\n",
            "Epoch 7/10\n",
            "2500/2500 [==============================] - 34s 14ms/step - loss: 0.2333 - accuracy: 0.9221 - val_loss: 0.3109 - val_accuracy: 0.8823\n",
            "Epoch 8/10\n",
            "2500/2500 [==============================] - 34s 14ms/step - loss: 0.2154 - accuracy: 0.9282 - val_loss: 0.3118 - val_accuracy: 0.8820\n",
            "Epoch 9/10\n",
            "2500/2500 [==============================] - 35s 14ms/step - loss: 0.2011 - accuracy: 0.9336 - val_loss: 0.3159 - val_accuracy: 0.8800\n",
            "Epoch 10/10\n",
            "2500/2500 [==============================] - 35s 14ms/step - loss: 0.1905 - accuracy: 0.9379 - val_loss: 0.3219 - val_accuracy: 0.8780\n"
          ],
          "name": "stdout"
        }
      ]
    },
    {
      "cell_type": "code",
      "metadata": {
        "id": "rpQ7C7WCSxW2",
        "colab_type": "code",
        "colab": {
          "base_uri": "https://localhost:8080/",
          "height": 35
        },
        "outputId": "27242598-1160-436b-dc25-86a3429cbbc7"
      },
      "source": [
        "## Get the embedding metrix\n",
        "embedding_layer = model.layers[0]\n",
        "embedding_matrix = embedding_layer.get_weights()[0]\n",
        "print(\"Shape of embedding matrix :\", embedding_matrix.shape)"
      ],
      "execution_count": 26,
      "outputs": [
        {
          "output_type": "stream",
          "text": [
            "Shape of embedding matrix : (8185, 16)\n"
          ],
          "name": "stdout"
        }
      ]
    },
    {
      "cell_type": "code",
      "metadata": {
        "id": "tCL2f8DHSoyZ",
        "colab_type": "code",
        "colab": {
          "base_uri": "https://localhost:8080/",
          "height": 1000
        },
        "outputId": "9329b37f-7633-4ad5-e71a-21397859b179"
      },
      "source": [
        "### Plot the loss and accuracy\n",
        "import matplotlib.pyplot as plt\n",
        "%matplotlib inline\n",
        "\n",
        "history_dict = history.history\n",
        "\n",
        "acc = history_dict['accuracy']\n",
        "val_acc = history_dict['val_accuracy']\n",
        "loss = history_dict['loss']\n",
        "val_loss = history_dict['val_loss']\n",
        "\n",
        "epochs = range(1, len(acc) + 1)\n",
        "\n",
        "plt.figure(figsize=(12,9))\n",
        "plt.plot(epochs, loss, 'bo', label='Training loss')\n",
        "plt.plot(epochs, val_loss, 'b', label='Validation loss')\n",
        "plt.title('Training and validation loss')\n",
        "plt.xlabel('Epochs')\n",
        "plt.ylabel('Loss')\n",
        "plt.legend()\n",
        "plt.show()\n",
        "\n",
        "plt.figure(figsize=(12,9))\n",
        "plt.plot(epochs, acc, 'bo', label='Training acc')\n",
        "plt.plot(epochs, val_acc, 'b', label='Validation acc')\n",
        "plt.title('Training and validation accuracy')\n",
        "plt.xlabel('Epochs')\n",
        "plt.ylabel('Accuracy')\n",
        "plt.legend(loc='lower right')\n",
        "plt.ylim((0.5,1))\n",
        "plt.show()"
      ],
      "execution_count": 27,
      "outputs": [
        {
          "output_type": "display_data",
          "data": {
            "image/png": "[encoded data removed]",
            "text/plain": [
              "<Figure size 864x648 with 1 Axes>"
            ]
          },
          "metadata": {
            "tags": []
          }
        },
        {
          "output_type": "display_data",
          "data": {
            "image/png": "[encoded data removed]",
            "text/plain": [
              "<Figure size 864x648 with 1 Axes>"
            ]
          },
          "metadata": {
            "tags": []
          }
        }
      ]
    },
    {
      "cell_type": "code",
      "metadata": {
        "id": "ls_nFTAiTYay",
        "colab_type": "code",
        "colab": {}
      },
      "source": [
        "import io\n",
        "\n",
        "encoder = info.features['text'].encoder\n",
        "\n",
        "out_v = io.open('vecs.tsv', 'w', encoding='utf-8')\n",
        "out_m = io.open('meta.tsv', 'w', encoding='utf-8')\n",
        "\n",
        "for num, word in enumerate(encoder.subwords):\n",
        "  vec = embedding_matrix[num+1] # skip 0, it's padding.\n",
        "  out_m.write(word + \"\\n\")\n",
        "  out_v.write('\\t'.join([str(x) for x in vec]) + \"\\n\")\n",
        "out_v.close()\n",
        "out_m.close()"
      ],
      "execution_count": 0,
      "outputs": []
    },
    {
      "cell_type": "code",
      "metadata": {
        "id": "H0HSZF10Tdcq",
        "colab_type": "code",
        "colab": {}
      },
      "source": [
        "## download files from colab\n",
        "try:\n",
        "  from google.colab import files\n",
        "except ImportError:\n",
        "   pass\n",
        "else:\n",
        "  files.download('vecs.tsv')\n",
        "  files.download('meta.tsv')"
      ],
      "execution_count": 0,
      "outputs": []
    },
    {
      "cell_type": "code",
      "metadata": {
        "id": "VAqaLCafUERO",
        "colab_type": "code",
        "colab": {}
      },
      "source": [
        "### Open http://projector.tensorflow.org/ and upload both the files"
      ],
      "execution_count": 0,
      "outputs": []
    },
    {
      "cell_type": "code",
      "metadata": {
        "id": "vJeN7OmuVZ1n",
        "colab_type": "code",
        "colab": {}
      },
      "source": [
        ""
      ],
      "execution_count": 0,
      "outputs": []
    }
  ]
}