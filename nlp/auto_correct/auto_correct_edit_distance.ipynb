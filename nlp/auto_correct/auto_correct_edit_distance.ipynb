{
 "cells": [
  {
   "cell_type": "code",
   "execution_count": 1,
   "metadata": {},
   "outputs": [],
   "source": [
    "import string\n",
    "from collections import defaultdict\n",
    "import numpy as pd\n",
    "import numpy as np\n",
    "from argparse import Namespace"
   ]
  },
  {
   "cell_type": "code",
   "execution_count": 2,
   "metadata": {},
   "outputs": [],
   "source": [
    "config = Namespace(\n",
    "    file_path = './data/shakespeare.txt'\n",
    ")"
   ]
  },
  {
   "cell_type": "markdown",
   "metadata": {},
   "source": [
    "## Load data"
   ]
  },
  {
   "cell_type": "code",
   "execution_count": 3,
   "metadata": {},
   "outputs": [
    {
     "name": "stdout",
     "output_type": "stream",
     "text": [
      "Number of words in vocab : 3547\n"
     ]
    }
   ],
   "source": [
    "vocab  = defaultdict(int)\n",
    "\n",
    "with open(config.file_path) as f:\n",
    "    for line in f.readlines():\n",
    "        tokens = line.strip().split(\" \")\n",
    "        for token in tokens:\n",
    "            vocab[token.lower()] += 1\n",
    "            \n",
    "vocab = {k:v for k,v in vocab.items() if v>1 and len(k)>1}\n",
    "print(f\"Number of words in vocab : {len(vocab)}\")\n",
    "vocab = {k: np.round(v/len(vocab),3) for k,v in vocab.items()}"
   ]
  },
  {
   "cell_type": "markdown",
   "metadata": {},
   "source": [
    "## Auto- Correct Algorithm\n",
    "\n",
    "    1. Identify the misspelled word (word not in vocab)\n",
    "    2. Use delete, insert, replace, switch operation to get all words\n",
    "    3. Filter words that are in vocab\n",
    "    4. Highest prbability word will be more likely right word."
   ]
  },
  {
   "cell_type": "markdown",
   "metadata": {},
   "source": [
    "## Utilities"
   ]
  },
  {
   "cell_type": "code",
   "execution_count": 4,
   "metadata": {},
   "outputs": [],
   "source": [
    "def split_word(w):\n",
    "    return [(w[:i], w[i:]) for i in range(len(w))]\n",
    "\n",
    "def delete_letter(word):\n",
    "    split_words = split_word(word)\n",
    "    out_words = [word_l[:-1]+word_r for word_l, word_r in split_words if len(word_l)>0]\n",
    "    return out_words\n",
    "\n",
    "def switch_letter(word):\n",
    "    split_words = split_word(word)\n",
    "    out_words = [word_l[:-1]+word_r[0]+word_l[-1:]+word_r[1:] for word_l, word_r in split_words if len(word_l)>0]\n",
    "    return out_words\n",
    "\n",
    "def insert_letter(word):\n",
    "    split_words = split_word(word)\n",
    "    letters = list(string.ascii_lowercase)\n",
    "    out_words = set()\n",
    "    \n",
    "    for word_l, word_r in split_words:\n",
    "        for letter in letters:\n",
    "            final_word = word_l + letter + word_r\n",
    "            out_words.add(final_word)\n",
    "    \n",
    "    out_words = list(out_words - {word})\n",
    "    \n",
    "    return out_words\n",
    "\n",
    "def replace_letter(word):\n",
    "    out_words = []\n",
    "    \n",
    "    delete_words = delete_letter(word)\n",
    "    for w in delete_words:\n",
    "        out_words += insert_letter(w)\n",
    "    out_words = list(set(out_words) - {word})\n",
    "    return out_words\n",
    "\n",
    "def one_edit_distance_words(word):\n",
    "    \n",
    "    words = []\n",
    "    words += delete_letter(word)\n",
    "    words += insert_letter(word)\n",
    "    words += replace_letter(word)\n",
    "    words += switch_letter(word)\n",
    "    words = list(set(words))\n",
    "    \n",
    "    return words\n",
    "\n",
    "def two_edit_distance_words(word):\n",
    "    \n",
    "    one_edit_dist_words = one_edit_distance_words(word)\n",
    "    \n",
    "    two_edit_dist_words = []\n",
    "    for w in one_edit_dist_words:\n",
    "        two_edit_dist_words += one_edit_distance_words(w)\n",
    "    \n",
    "    two_edit_dist_words = list(set(two_edit_dist_words) - {word})\n",
    "    \n",
    "    return two_edit_dist_words"
   ]
  },
  {
   "cell_type": "code",
   "execution_count": 5,
   "metadata": {},
   "outputs": [],
   "source": [
    "## Find the min edit distance between two string using dynamic programming\n",
    "def min_edit_distance(source, target, ins_cost = 1, del_cost = 1, rep_cost = 2):\n",
    "    \n",
    "    m = len(source)\n",
    "    n = len(target)\n",
    "\n",
    "    D = np.zeros((m+1, n+1), dtype=int) \n",
    "    \n",
    "    for row in range(1,m+1):\n",
    "        D[row,0] = D[row-1,0] + del_cost\n",
    "        \n",
    "    for col in range(1,n+1): \n",
    "        D[0,col] = D[0,col-1] + ins_cost\n",
    "        \n",
    "    for row in range(1,m+1): \n",
    "        for col in range(1,n+1):\n",
    "            \n",
    "            r_cost = rep_cost\n",
    "            if source[row-1] == target[col-1]:\n",
    "                r_cost = 0\n",
    "            D[row,col] = min([D[row-1,col]+del_cost, D[row,col-1]+ins_cost, D[row-1,col-1]+r_cost])\n",
    "          \n",
    "    med = D[m,n]\n",
    "    \n",
    "    return D, med"
   ]
  },
  {
   "cell_type": "code",
   "execution_count": 6,
   "metadata": {},
   "outputs": [],
   "source": [
    "def auto_correct(word, vocab):\n",
    "    \n",
    "    if word in vocab:\n",
    "        return word\n",
    "    else:\n",
    "        one_edit_words = one_edit_distance_words(word)\n",
    "        one_freqs_dist = {w:vocab[w] for w in one_edit_words if w in vocab}\n",
    "        \n",
    "        two_edit_words = two_edit_distance_words(word)\n",
    "        two_freqs_dist = {w:vocab[w] for w in two_edit_words if w in vocab}\n",
    "        \n",
    "        if one_freqs_dist is not None:\n",
    "            one_freqs_words = sorted(one_freqs_dist, key = lambda x: one_freqs_dist[x], reverse = True)\n",
    "            \n",
    "        if two_freqs_dist is not None:\n",
    "            two_freqs_words = sorted(two_freqs_dist, key = lambda x: two_freqs_dist[x], reverse = True) ## decending order\n",
    "    \n",
    "    final_words = list(set(one_freqs_words + two_freqs_words[:5]))\n",
    "    \n",
    "    \n",
    "    ## Use min edit cost to suggest the words\n",
    "    costs = {}\n",
    "    for w in final_words:\n",
    "        costs[w] = min_edit_distance(word, w)[1]\n",
    "        \n",
    "    if costs != {}:\n",
    "        suggestions = sorted(costs, key = lambda x: costs[x])  ## ascending\n",
    "        \n",
    "    return suggestions"
   ]
  },
  {
   "cell_type": "code",
   "execution_count": 7,
   "metadata": {},
   "outputs": [
    {
     "name": "stdout",
     "output_type": "stream",
     "text": [
      "Original Word : you \t Correct Words: you\n",
      "Original Word : yuo \t Correct Words: ['you', 'to', 'so', 'do', 'no', 'who']\n",
      "Original Word : heanve \t Correct Words: ['heaven', 'have', 'leave', 'change', 'whence']\n",
      "Original Word : sholud \t Correct Words: ['sold', 'hold', 'should', 'sound', 'behold']\n"
     ]
    }
   ],
   "source": [
    "word = \"you\"\n",
    "print(f\"Original Word : {word} \\t Correct Words: {auto_correct(word,vocab)}\")\n",
    "\n",
    "word = \"yuo\"\n",
    "print(f\"Original Word : {word} \\t Correct Words: {auto_correct(word,vocab)}\")\n",
    "\n",
    "word = \"heanve\"\n",
    "print(f\"Original Word : {word} \\t Correct Words: {auto_correct(word,vocab)}\")\n",
    "\n",
    "word = \"sholud\"\n",
    "print(f\"Original Word : {word} \\t Correct Words: {auto_correct(word,vocab)}\")"
   ]
  },
  {
   "cell_type": "code",
   "execution_count": null,
   "metadata": {},
   "outputs": [],
   "source": []
  }
 ],
 "metadata": {
  "kernelspec": {
   "display_name": "Python 3",
   "language": "python",
   "name": "python3"
  },
  "language_info": {
   "codemirror_mode": {
    "name": "ipython",
    "version": 3
   },
   "file_extension": ".py",
   "mimetype": "text/x-python",
   "name": "python",
   "nbconvert_exporter": "python",
   "pygments_lexer": "ipython3",
   "version": "3.7.6"
  }
 },
 "nbformat": 4,
 "nbformat_minor": 4
}
